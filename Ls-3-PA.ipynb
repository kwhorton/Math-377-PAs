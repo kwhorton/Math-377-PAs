{
 "cells": [
  {
   "cell_type": "markdown",
   "metadata": {},
   "source": [
    "# Lesson 3 Practical Application\n",
    "## C3C David Mottice"
   ]
  },
  {
   "cell_type": "markdown",
   "metadata": {},
   "source": [
    "### #0 Include following code chunk to load required packages."
   ]
  },
  {
   "cell_type": "code",
   "execution_count": 14,
   "metadata": {},
   "outputs": [],
   "source": [
    "import numpy as np\n",
    "from datascience import * \n",
    "%matplotlib inline\n",
    "import matplotlib.pyplot as plots\n",
    "plots.style.use('fivethirtyeight')\n",
    "import warnings\n",
    "warnings.simplefilter(action=\"ignore\", category=FutureWarning)\n",
    "path_data = 'C:\\\\Users\\C20David.Mottice\\Documents\\Math 377\\Python Scripts\\Data\\\\'"
   ]
  },
  {
   "cell_type": "markdown",
   "metadata": {},
   "source": [
    "### #1 Use basic python operators to find the number of seconds in the month of June. Find the number of seconds that have lapsed between 14 Aug, 0930 and 1 June, 1200."
   ]
  },
  {
   "cell_type": "code",
   "execution_count": 2,
   "metadata": {},
   "outputs": [
    {
     "data": {
      "text/plain": [
       "2592000"
      ]
     },
     "execution_count": 2,
     "metadata": {},
     "output_type": "execute_result"
    }
   ],
   "source": [
    "seconds_per_minute = 60\n",
    "minutes_per_hour = 60\n",
    "hours_per_day = 24\n",
    "days_per_June = 30\n",
    "seconds_per_June = seconds_per_minute * minutes_per_hour * hours_per_day * days_per_June\n",
    "seconds_per_June"
   ]
  },
  {
   "cell_type": "markdown",
   "metadata": {},
   "source": [
    "I interpretted this question as June to August just to make it easier. I already know the seconds in June and I can solve for totoal seconds in July. Then I can solve for the seconds until 14 Aug 0930. And finally subtract 12 hours from the June seconds missed."
   ]
  },
  {
   "cell_type": "code",
   "execution_count": 3,
   "metadata": {},
   "outputs": [
    {
     "data": {
      "text/plain": [
       "1728907200.0"
      ]
     },
     "execution_count": 3,
     "metadata": {},
     "output_type": "execute_result"
    }
   ],
   "source": [
    "days_per_July = 31\n",
    "seconds_per_July = seconds_per_minute * minutes_per_hour * hours_per_day * days_per_July\n",
    "days_usedin_Aug = 14\n",
    "hours_per_lastdayAug = 9.5\n",
    "seconds_per_Aug = (seconds_per_minute * minutes_per_hour * days_usedin_Aug) * (seconds_per_minute * minutes_per_hour * hours_per_lastdayAug)\n",
    "Seconds_Lapsed = seconds_per_June + seconds_per_July + seconds_per_Aug - (seconds_per_minute * minutes_per_hour * 12)\n",
    "Seconds_Lapsed"
   ]
  },
  {
   "cell_type": "markdown",
   "metadata": {},
   "source": [
    "### #2 Import a table ('word_population.csv') and find: \n",
    "a) The population in 2016 \n",
    "b) The population growth between 1950 and 2016 \n",
    "c) The annual growth rate over the course of the dataset"
   ]
  },
  {
   "cell_type": "code",
   "execution_count": 15,
   "metadata": {},
   "outputs": [],
   "source": [
    "world_popul = Table.read_table(path_data + 'world_population.csv')"
   ]
  },
  {
   "cell_type": "code",
   "execution_count": 17,
   "metadata": {},
   "outputs": [
    {
     "data": {
      "text/html": [
       "<table border=\"1\" class=\"dataframe\">\n",
       "    <thead>\n",
       "        <tr>\n",
       "            <th>Population</th>\n",
       "        </tr>\n",
       "    </thead>\n",
       "    <tbody>\n",
       "        <tr>\n",
       "            <td>2557628654</td>\n",
       "        </tr>\n",
       "        <tr>\n",
       "            <td>2594939877</td>\n",
       "        </tr>\n",
       "        <tr>\n",
       "            <td>2636772306</td>\n",
       "        </tr>\n",
       "        <tr>\n",
       "            <td>2682053389</td>\n",
       "        </tr>\n",
       "        <tr>\n",
       "            <td>2730228104</td>\n",
       "        </tr>\n",
       "        <tr>\n",
       "            <td>2782098943</td>\n",
       "        </tr>\n",
       "        <tr>\n",
       "            <td>2835299673</td>\n",
       "        </tr>\n",
       "        <tr>\n",
       "            <td>2891349717</td>\n",
       "        </tr>\n",
       "        <tr>\n",
       "            <td>2948137248</td>\n",
       "        </tr>\n",
       "        <tr>\n",
       "            <td>3000716593</td>\n",
       "        </tr>\n",
       "    </tbody>\n",
       "</table>\n",
       "<p>... (56 rows omitted)</p>"
      ],
      "text/plain": [
       "Population\n",
       "2557628654\n",
       "2594939877\n",
       "2636772306\n",
       "2682053389\n",
       "2730228104\n",
       "2782098943\n",
       "2835299673\n",
       "2891349717\n",
       "2948137248\n",
       "3000716593\n",
       "... (56 rows omitted)"
      ]
     },
     "execution_count": 17,
     "metadata": {},
     "output_type": "execute_result"
    }
   ],
   "source": [
    "world_popul"
   ]
  },
  {
   "cell_type": "code",
   "execution_count": 18,
   "metadata": {},
   "outputs": [
    {
     "data": {
      "text/plain": [
       "65"
      ]
     },
     "execution_count": 18,
     "metadata": {},
     "output_type": "execute_result"
    }
   ],
   "source": [
    "2015-1950"
   ]
  },
  {
   "cell_type": "code",
   "execution_count": 19,
   "metadata": {},
   "outputs": [
    {
     "data": {
      "text/plain": [
       "array([(2557628654,), (2594939877,), (2636772306,), (2682053389,),\n",
       "       (2730228104,), (2782098943,), (2835299673,), (2891349717,),\n",
       "       (2948137248,), (3000716593,), (3043001508,), (3083966929,),\n",
       "       (3140093217,), (3209827882,), (3281201306,), (3350425793,),\n",
       "       (3420677923,), (3490333715,), (3562313822,), (3637159050,),\n",
       "       (3712697742,), (3790326948,), (3866568653,), (3942096442,),\n",
       "       (4016608813,), (4089083233,), (4160185010,), (4232084578,),\n",
       "       (4304105753,), (4379013942,), (4451362735,), (4534410125,),\n",
       "       (4614566561,), (4695736743,), (4774569391,), (4856462699,),\n",
       "       (4940571232,), (5027200492,), (5114557167,), (5201440110,),\n",
       "       (5288955934,), (5371585922,), (5456136278,), (5538268316,),\n",
       "       (5618682132,), (5699202985,), (5779440593,), (5857972543,),\n",
       "       (5935213248,), (6012074922,), (6088571383,), (6165219247,),\n",
       "       (6242016348,), (6318590956,), (6395699509,), (6473044732,),\n",
       "       (6551263534,), (6629913759,), (6709049780,), (6788214394,),\n",
       "       (6866332358,), (6944055583,), (7022349283,), (7101027895,),\n",
       "       (7178722893,), (7256490011,)], dtype=[('Population', '<i8')])"
      ]
     },
     "execution_count": 19,
     "metadata": {},
     "output_type": "execute_result"
    }
   ],
   "source": [
    "popul_array = world_popul.to_array()\n",
    "popul_array"
   ]
  },
  {
   "cell_type": "code",
   "execution_count": 20,
   "metadata": {},
   "outputs": [
    {
     "data": {
      "text/plain": [
       "'Population in 2015: 7256490011'"
      ]
     },
     "execution_count": 20,
     "metadata": {},
     "output_type": "execute_result"
    }
   ],
   "source": [
    "po_2015 = str(popul_array[65][0])\n",
    "'Population in 2015: ' + po_2015"
   ]
  },
  {
   "cell_type": "code",
   "execution_count": 21,
   "metadata": {},
   "outputs": [
    {
     "data": {
      "text/plain": [
       "2557628654"
      ]
     },
     "execution_count": 21,
     "metadata": {},
     "output_type": "execute_result"
    }
   ],
   "source": [
    "po_1950 = str(popul_array[0][0])\n",
    "int(po_1950)"
   ]
  },
  {
   "cell_type": "code",
   "execution_count": 22,
   "metadata": {},
   "outputs": [
    {
     "data": {
      "text/plain": [
       "'The growth in population from 1950 to 2015 is: 4698861357'"
      ]
     },
     "execution_count": 22,
     "metadata": {},
     "output_type": "execute_result"
    }
   ],
   "source": [
    "popul_growth = int(po_2015) - int(po_1950)\n",
    "\"The growth in population from 1950 to 2015 is: \" + str(popul_growth)"
   ]
  },
  {
   "cell_type": "code",
   "execution_count": 23,
   "metadata": {},
   "outputs": [
    {
     "data": {
      "text/plain": [
       "0.01617270380658975"
      ]
     },
     "execution_count": 23,
     "metadata": {},
     "output_type": "execute_result"
    }
   ],
   "source": [
    "rate_of_growth = (int(po_2015) / int(po_1950)) ** (1/65) - 1\n",
    "rate_of_growth"
   ]
  },
  {
   "cell_type": "markdown",
   "metadata": {},
   "source": [
    "### #3 The titanic data set describes passengers on the Titanic when it sank. Import the data set and answer the following questions:\n",
    "    a. Relabel 'pclass' column to 'passenger_class'\n",
    "    b. Create a new column 'family_size' that adds the # of siblings/spouses to the number of children\n",
    "    c. Create a barplot of number of passengers by passenger class*****\n",
    "    d. Sort the data by age and show the youngest 5 passengers\n",
    "    e. Sort data from old to young and show oldest 5 passengers. Elimite 'nan' and try again.\n",
    "    f. Find survival rate of passengers, broken down by passenger class.\n",
    "    g. Create two of your own questions and answer them."
   ]
  },
  {
   "cell_type": "code",
   "execution_count": 24,
   "metadata": {},
   "outputs": [
    {
     "data": {
      "text/html": [
       "<table border=\"1\" class=\"dataframe\">\n",
       "    <thead>\n",
       "        <tr>\n",
       "            <th>PassengerId</th> <th>Survived</th> <th>Pclass</th> <th>Name</th> <th>Sex</th> <th>Age</th> <th>SibSp</th> <th>Parch</th> <th>Ticket</th> <th>Fare</th> <th>Cabin</th> <th>Embarked</th>\n",
       "        </tr>\n",
       "    </thead>\n",
       "    <tbody>\n",
       "        <tr>\n",
       "            <td>1          </td> <td>0       </td> <td>3     </td> <td>Braund, Mr. Owen Harris                            </td> <td>male  </td> <td>22  </td> <td>1    </td> <td>0    </td> <td>A/5 21171       </td> <td>7.25   </td> <td>nan  </td> <td>S       </td>\n",
       "        </tr>\n",
       "        <tr>\n",
       "            <td>2          </td> <td>1       </td> <td>1     </td> <td>Cumings, Mrs. John Bradley (Florence Briggs Thayer)</td> <td>female</td> <td>38  </td> <td>1    </td> <td>0    </td> <td>PC 17599        </td> <td>71.2833</td> <td>C85  </td> <td>C       </td>\n",
       "        </tr>\n",
       "        <tr>\n",
       "            <td>3          </td> <td>1       </td> <td>3     </td> <td>Heikkinen, Miss. Laina                             </td> <td>female</td> <td>26  </td> <td>0    </td> <td>0    </td> <td>STON/O2. 3101282</td> <td>7.925  </td> <td>nan  </td> <td>S       </td>\n",
       "        </tr>\n",
       "        <tr>\n",
       "            <td>4          </td> <td>1       </td> <td>1     </td> <td>Futrelle, Mrs. Jacques Heath (Lily May Peel)       </td> <td>female</td> <td>35  </td> <td>1    </td> <td>0    </td> <td>113803          </td> <td>53.1   </td> <td>C123 </td> <td>S       </td>\n",
       "        </tr>\n",
       "        <tr>\n",
       "            <td>5          </td> <td>0       </td> <td>3     </td> <td>Allen, Mr. William Henry                           </td> <td>male  </td> <td>35  </td> <td>0    </td> <td>0    </td> <td>373450          </td> <td>8.05   </td> <td>nan  </td> <td>S       </td>\n",
       "        </tr>\n",
       "        <tr>\n",
       "            <td>6          </td> <td>0       </td> <td>3     </td> <td>Moran, Mr. James                                   </td> <td>male  </td> <td>nan </td> <td>0    </td> <td>0    </td> <td>330877          </td> <td>8.4583 </td> <td>nan  </td> <td>Q       </td>\n",
       "        </tr>\n",
       "        <tr>\n",
       "            <td>7          </td> <td>0       </td> <td>1     </td> <td>McCarthy, Mr. Timothy J                            </td> <td>male  </td> <td>54  </td> <td>0    </td> <td>0    </td> <td>17463           </td> <td>51.8625</td> <td>E46  </td> <td>S       </td>\n",
       "        </tr>\n",
       "        <tr>\n",
       "            <td>8          </td> <td>0       </td> <td>3     </td> <td>Palsson, Master. Gosta Leonard                     </td> <td>male  </td> <td>2   </td> <td>3    </td> <td>1    </td> <td>349909          </td> <td>21.075 </td> <td>nan  </td> <td>S       </td>\n",
       "        </tr>\n",
       "        <tr>\n",
       "            <td>9          </td> <td>1       </td> <td>3     </td> <td>Johnson, Mrs. Oscar W (Elisabeth Vilhelmina Berg)  </td> <td>female</td> <td>27  </td> <td>0    </td> <td>2    </td> <td>347742          </td> <td>11.1333</td> <td>nan  </td> <td>S       </td>\n",
       "        </tr>\n",
       "        <tr>\n",
       "            <td>10         </td> <td>1       </td> <td>2     </td> <td>Nasser, Mrs. Nicholas (Adele Achem)                </td> <td>female</td> <td>14  </td> <td>1    </td> <td>0    </td> <td>237736          </td> <td>30.0708</td> <td>nan  </td> <td>C       </td>\n",
       "        </tr>\n",
       "    </tbody>\n",
       "</table>\n",
       "<p>... (881 rows omitted)</p>"
      ],
      "text/plain": [
       "PassengerId | Survived | Pclass | Name                                                | Sex    | Age  | SibSp | Parch | Ticket           | Fare    | Cabin | Embarked\n",
       "1           | 0        | 3      | Braund, Mr. Owen Harris                             | male   | 22   | 1     | 0     | A/5 21171        | 7.25    | nan   | S\n",
       "2           | 1        | 1      | Cumings, Mrs. John Bradley (Florence Briggs Thayer) | female | 38   | 1     | 0     | PC 17599         | 71.2833 | C85   | C\n",
       "3           | 1        | 3      | Heikkinen, Miss. Laina                              | female | 26   | 0     | 0     | STON/O2. 3101282 | 7.925   | nan   | S\n",
       "4           | 1        | 1      | Futrelle, Mrs. Jacques Heath (Lily May Peel)        | female | 35   | 1     | 0     | 113803           | 53.1    | C123  | S\n",
       "5           | 0        | 3      | Allen, Mr. William Henry                            | male   | 35   | 0     | 0     | 373450           | 8.05    | nan   | S\n",
       "6           | 0        | 3      | Moran, Mr. James                                    | male   | nan  | 0     | 0     | 330877           | 8.4583  | nan   | Q\n",
       "7           | 0        | 1      | McCarthy, Mr. Timothy J                             | male   | 54   | 0     | 0     | 17463            | 51.8625 | E46   | S\n",
       "8           | 0        | 3      | Palsson, Master. Gosta Leonard                      | male   | 2    | 3     | 1     | 349909           | 21.075  | nan   | S\n",
       "9           | 1        | 3      | Johnson, Mrs. Oscar W (Elisabeth Vilhelmina Berg)   | female | 27   | 0     | 2     | 347742           | 11.1333 | nan   | S\n",
       "10          | 1        | 2      | Nasser, Mrs. Nicholas (Adele Achem)                 | female | 14   | 1     | 0     | 237736           | 30.0708 | nan   | C\n",
       "... (881 rows omitted)"
      ]
     },
     "execution_count": 24,
     "metadata": {},
     "output_type": "execute_result"
    }
   ],
   "source": [
    "Titanic = Table.read_table('https://raw.githubusercontent.com/oikobill/Kaggle/master/Titanic/data/train.csv')\n",
    "Titanic"
   ]
  },
  {
   "cell_type": "code",
   "execution_count": 25,
   "metadata": {},
   "outputs": [
    {
     "data": {
      "text/html": [
       "<table border=\"1\" class=\"dataframe\">\n",
       "    <thead>\n",
       "        <tr>\n",
       "            <th>PassengerId</th> <th>Survived</th> <th>passenger_class</th> <th>Name</th> <th>Sex</th> <th>Age</th> <th>SibSp</th> <th>Parch</th> <th>Ticket</th> <th>Fare</th> <th>Cabin</th> <th>Embarked</th>\n",
       "        </tr>\n",
       "    </thead>\n",
       "    <tbody>\n",
       "        <tr>\n",
       "            <td>1          </td> <td>0       </td> <td>3              </td> <td>Braund, Mr. Owen Harris                            </td> <td>male  </td> <td>22  </td> <td>1    </td> <td>0    </td> <td>A/5 21171       </td> <td>7.25   </td> <td>nan  </td> <td>S       </td>\n",
       "        </tr>\n",
       "        <tr>\n",
       "            <td>2          </td> <td>1       </td> <td>1              </td> <td>Cumings, Mrs. John Bradley (Florence Briggs Thayer)</td> <td>female</td> <td>38  </td> <td>1    </td> <td>0    </td> <td>PC 17599        </td> <td>71.2833</td> <td>C85  </td> <td>C       </td>\n",
       "        </tr>\n",
       "        <tr>\n",
       "            <td>3          </td> <td>1       </td> <td>3              </td> <td>Heikkinen, Miss. Laina                             </td> <td>female</td> <td>26  </td> <td>0    </td> <td>0    </td> <td>STON/O2. 3101282</td> <td>7.925  </td> <td>nan  </td> <td>S       </td>\n",
       "        </tr>\n",
       "        <tr>\n",
       "            <td>4          </td> <td>1       </td> <td>1              </td> <td>Futrelle, Mrs. Jacques Heath (Lily May Peel)       </td> <td>female</td> <td>35  </td> <td>1    </td> <td>0    </td> <td>113803          </td> <td>53.1   </td> <td>C123 </td> <td>S       </td>\n",
       "        </tr>\n",
       "        <tr>\n",
       "            <td>5          </td> <td>0       </td> <td>3              </td> <td>Allen, Mr. William Henry                           </td> <td>male  </td> <td>35  </td> <td>0    </td> <td>0    </td> <td>373450          </td> <td>8.05   </td> <td>nan  </td> <td>S       </td>\n",
       "        </tr>\n",
       "        <tr>\n",
       "            <td>6          </td> <td>0       </td> <td>3              </td> <td>Moran, Mr. James                                   </td> <td>male  </td> <td>nan </td> <td>0    </td> <td>0    </td> <td>330877          </td> <td>8.4583 </td> <td>nan  </td> <td>Q       </td>\n",
       "        </tr>\n",
       "        <tr>\n",
       "            <td>7          </td> <td>0       </td> <td>1              </td> <td>McCarthy, Mr. Timothy J                            </td> <td>male  </td> <td>54  </td> <td>0    </td> <td>0    </td> <td>17463           </td> <td>51.8625</td> <td>E46  </td> <td>S       </td>\n",
       "        </tr>\n",
       "        <tr>\n",
       "            <td>8          </td> <td>0       </td> <td>3              </td> <td>Palsson, Master. Gosta Leonard                     </td> <td>male  </td> <td>2   </td> <td>3    </td> <td>1    </td> <td>349909          </td> <td>21.075 </td> <td>nan  </td> <td>S       </td>\n",
       "        </tr>\n",
       "        <tr>\n",
       "            <td>9          </td> <td>1       </td> <td>3              </td> <td>Johnson, Mrs. Oscar W (Elisabeth Vilhelmina Berg)  </td> <td>female</td> <td>27  </td> <td>0    </td> <td>2    </td> <td>347742          </td> <td>11.1333</td> <td>nan  </td> <td>S       </td>\n",
       "        </tr>\n",
       "        <tr>\n",
       "            <td>10         </td> <td>1       </td> <td>2              </td> <td>Nasser, Mrs. Nicholas (Adele Achem)                </td> <td>female</td> <td>14  </td> <td>1    </td> <td>0    </td> <td>237736          </td> <td>30.0708</td> <td>nan  </td> <td>C       </td>\n",
       "        </tr>\n",
       "    </tbody>\n",
       "</table>\n",
       "<p>... (881 rows omitted)</p>"
      ],
      "text/plain": [
       "PassengerId | Survived | passenger_class | Name                                                | Sex    | Age  | SibSp | Parch | Ticket           | Fare    | Cabin | Embarked\n",
       "1           | 0        | 3               | Braund, Mr. Owen Harris                             | male   | 22   | 1     | 0     | A/5 21171        | 7.25    | nan   | S\n",
       "2           | 1        | 1               | Cumings, Mrs. John Bradley (Florence Briggs Thayer) | female | 38   | 1     | 0     | PC 17599         | 71.2833 | C85   | C\n",
       "3           | 1        | 3               | Heikkinen, Miss. Laina                              | female | 26   | 0     | 0     | STON/O2. 3101282 | 7.925   | nan   | S\n",
       "4           | 1        | 1               | Futrelle, Mrs. Jacques Heath (Lily May Peel)        | female | 35   | 1     | 0     | 113803           | 53.1    | C123  | S\n",
       "5           | 0        | 3               | Allen, Mr. William Henry                            | male   | 35   | 0     | 0     | 373450           | 8.05    | nan   | S\n",
       "6           | 0        | 3               | Moran, Mr. James                                    | male   | nan  | 0     | 0     | 330877           | 8.4583  | nan   | Q\n",
       "7           | 0        | 1               | McCarthy, Mr. Timothy J                             | male   | 54   | 0     | 0     | 17463            | 51.8625 | E46   | S\n",
       "8           | 0        | 3               | Palsson, Master. Gosta Leonard                      | male   | 2    | 3     | 1     | 349909           | 21.075  | nan   | S\n",
       "9           | 1        | 3               | Johnson, Mrs. Oscar W (Elisabeth Vilhelmina Berg)   | female | 27   | 0     | 2     | 347742           | 11.1333 | nan   | S\n",
       "10          | 1        | 2               | Nasser, Mrs. Nicholas (Adele Achem)                 | female | 14   | 1     | 0     | 237736           | 30.0708 | nan   | C\n",
       "... (881 rows omitted)"
      ]
     },
     "execution_count": 25,
     "metadata": {},
     "output_type": "execute_result"
    }
   ],
   "source": [
    "Titanic.relabel('Pclass', 'passenger_class')\n",
    "Titanic"
   ]
  },
  {
   "cell_type": "code",
   "execution_count": 26,
   "metadata": {},
   "outputs": [
    {
     "data": {
      "text/html": [
       "<table border=\"1\" class=\"dataframe\">\n",
       "    <thead>\n",
       "        <tr>\n",
       "            <th>PassengerId</th> <th>Survived</th> <th>passenger_class</th> <th>Name</th> <th>Sex</th> <th>Age</th> <th>SibSp</th> <th>Parch</th> <th>Ticket</th> <th>Fare</th> <th>Cabin</th> <th>Embarked</th> <th>family_size</th>\n",
       "        </tr>\n",
       "    </thead>\n",
       "    <tbody>\n",
       "        <tr>\n",
       "            <td>1          </td> <td>0       </td> <td>3              </td> <td>Braund, Mr. Owen Harris                            </td> <td>male  </td> <td>22  </td> <td>1    </td> <td>0    </td> <td>A/5 21171       </td> <td>7.25   </td> <td>nan  </td> <td>S       </td> <td>1          </td>\n",
       "        </tr>\n",
       "        <tr>\n",
       "            <td>2          </td> <td>1       </td> <td>1              </td> <td>Cumings, Mrs. John Bradley (Florence Briggs Thayer)</td> <td>female</td> <td>38  </td> <td>1    </td> <td>0    </td> <td>PC 17599        </td> <td>71.2833</td> <td>C85  </td> <td>C       </td> <td>1          </td>\n",
       "        </tr>\n",
       "        <tr>\n",
       "            <td>3          </td> <td>1       </td> <td>3              </td> <td>Heikkinen, Miss. Laina                             </td> <td>female</td> <td>26  </td> <td>0    </td> <td>0    </td> <td>STON/O2. 3101282</td> <td>7.925  </td> <td>nan  </td> <td>S       </td> <td>0          </td>\n",
       "        </tr>\n",
       "        <tr>\n",
       "            <td>4          </td> <td>1       </td> <td>1              </td> <td>Futrelle, Mrs. Jacques Heath (Lily May Peel)       </td> <td>female</td> <td>35  </td> <td>1    </td> <td>0    </td> <td>113803          </td> <td>53.1   </td> <td>C123 </td> <td>S       </td> <td>1          </td>\n",
       "        </tr>\n",
       "        <tr>\n",
       "            <td>5          </td> <td>0       </td> <td>3              </td> <td>Allen, Mr. William Henry                           </td> <td>male  </td> <td>35  </td> <td>0    </td> <td>0    </td> <td>373450          </td> <td>8.05   </td> <td>nan  </td> <td>S       </td> <td>0          </td>\n",
       "        </tr>\n",
       "        <tr>\n",
       "            <td>6          </td> <td>0       </td> <td>3              </td> <td>Moran, Mr. James                                   </td> <td>male  </td> <td>nan </td> <td>0    </td> <td>0    </td> <td>330877          </td> <td>8.4583 </td> <td>nan  </td> <td>Q       </td> <td>0          </td>\n",
       "        </tr>\n",
       "        <tr>\n",
       "            <td>7          </td> <td>0       </td> <td>1              </td> <td>McCarthy, Mr. Timothy J                            </td> <td>male  </td> <td>54  </td> <td>0    </td> <td>0    </td> <td>17463           </td> <td>51.8625</td> <td>E46  </td> <td>S       </td> <td>0          </td>\n",
       "        </tr>\n",
       "        <tr>\n",
       "            <td>8          </td> <td>0       </td> <td>3              </td> <td>Palsson, Master. Gosta Leonard                     </td> <td>male  </td> <td>2   </td> <td>3    </td> <td>1    </td> <td>349909          </td> <td>21.075 </td> <td>nan  </td> <td>S       </td> <td>4          </td>\n",
       "        </tr>\n",
       "        <tr>\n",
       "            <td>9          </td> <td>1       </td> <td>3              </td> <td>Johnson, Mrs. Oscar W (Elisabeth Vilhelmina Berg)  </td> <td>female</td> <td>27  </td> <td>0    </td> <td>2    </td> <td>347742          </td> <td>11.1333</td> <td>nan  </td> <td>S       </td> <td>2          </td>\n",
       "        </tr>\n",
       "        <tr>\n",
       "            <td>10         </td> <td>1       </td> <td>2              </td> <td>Nasser, Mrs. Nicholas (Adele Achem)                </td> <td>female</td> <td>14  </td> <td>1    </td> <td>0    </td> <td>237736          </td> <td>30.0708</td> <td>nan  </td> <td>C       </td> <td>1          </td>\n",
       "        </tr>\n",
       "    </tbody>\n",
       "</table>\n",
       "<p>... (881 rows omitted)</p>"
      ],
      "text/plain": [
       "PassengerId | Survived | passenger_class | Name                                                | Sex    | Age  | SibSp | Parch | Ticket           | Fare    | Cabin | Embarked | family_size\n",
       "1           | 0        | 3               | Braund, Mr. Owen Harris                             | male   | 22   | 1     | 0     | A/5 21171        | 7.25    | nan   | S        | 1\n",
       "2           | 1        | 1               | Cumings, Mrs. John Bradley (Florence Briggs Thayer) | female | 38   | 1     | 0     | PC 17599         | 71.2833 | C85   | C        | 1\n",
       "3           | 1        | 3               | Heikkinen, Miss. Laina                              | female | 26   | 0     | 0     | STON/O2. 3101282 | 7.925   | nan   | S        | 0\n",
       "4           | 1        | 1               | Futrelle, Mrs. Jacques Heath (Lily May Peel)        | female | 35   | 1     | 0     | 113803           | 53.1    | C123  | S        | 1\n",
       "5           | 0        | 3               | Allen, Mr. William Henry                            | male   | 35   | 0     | 0     | 373450           | 8.05    | nan   | S        | 0\n",
       "6           | 0        | 3               | Moran, Mr. James                                    | male   | nan  | 0     | 0     | 330877           | 8.4583  | nan   | Q        | 0\n",
       "7           | 0        | 1               | McCarthy, Mr. Timothy J                             | male   | 54   | 0     | 0     | 17463            | 51.8625 | E46   | S        | 0\n",
       "8           | 0        | 3               | Palsson, Master. Gosta Leonard                      | male   | 2    | 3     | 1     | 349909           | 21.075  | nan   | S        | 4\n",
       "9           | 1        | 3               | Johnson, Mrs. Oscar W (Elisabeth Vilhelmina Berg)   | female | 27   | 0     | 2     | 347742           | 11.1333 | nan   | S        | 2\n",
       "10          | 1        | 2               | Nasser, Mrs. Nicholas (Adele Achem)                 | female | 14   | 1     | 0     | 237736           | 30.0708 | nan   | C        | 1\n",
       "... (881 rows omitted)"
      ]
     },
     "execution_count": 26,
     "metadata": {},
     "output_type": "execute_result"
    }
   ],
   "source": [
    "Titanic.append_column('family_size', Titanic.column('SibSp') + Titanic.column('Parch'))\n",
    "Titanic"
   ]
  },
  {
   "cell_type": "code",
   "execution_count": 27,
   "metadata": {},
   "outputs": [
    {
     "data": {
      "text/html": [
       "<table border=\"1\" class=\"dataframe\">\n",
       "    <thead>\n",
       "        <tr>\n",
       "            <th>PassengerId</th> <th>Survived</th> <th>passenger_class</th> <th>Name</th> <th>Sex</th> <th>Age</th> <th>SibSp</th> <th>Parch</th> <th>Ticket</th> <th>Fare</th> <th>Cabin</th> <th>Embarked</th> <th>family_size</th>\n",
       "        </tr>\n",
       "    </thead>\n",
       "    <tbody>\n",
       "        <tr>\n",
       "            <td>756        </td> <td>1       </td> <td>2              </td> <td>Hamalainen, Master. Viljo</td> <td>male</td> <td>0.67</td> <td>1    </td> <td>1    </td> <td>250649</td> <td>14.5</td> <td>nan  </td> <td>S       </td> <td>2          </td>\n",
       "        </tr>\n",
       "    </tbody>\n",
       "</table>"
      ],
      "text/plain": [
       "PassengerId | Survived | passenger_class | Name                      | Sex  | Age  | SibSp | Parch | Ticket | Fare | Cabin | Embarked | family_size\n",
       "756         | 1        | 2               | Hamalainen, Master. Viljo | male | 0.67 | 1     | 1     | 250649 | 14.5 | nan   | S        | 2"
      ]
     },
     "execution_count": 27,
     "metadata": {},
     "output_type": "execute_result"
    }
   ],
   "source": [
    "Titanic.sort('Age',descending=False,distinct=False).take(1,)"
   ]
  },
  {
   "cell_type": "code",
   "execution_count": 28,
   "metadata": {},
   "outputs": [
    {
     "data": {
      "text/html": [
       "<table border=\"1\" class=\"dataframe\">\n",
       "    <thead>\n",
       "        <tr>\n",
       "            <th>PassengerId</th> <th>Survived</th> <th>passenger_class</th> <th>Name</th> <th>Sex</th> <th>Age</th> <th>SibSp</th> <th>Parch</th> <th>Ticket</th> <th>Fare</th> <th>Cabin</th> <th>Embarked</th> <th>family_size</th>\n",
       "        </tr>\n",
       "    </thead>\n",
       "    <tbody>\n",
       "        <tr>\n",
       "            <td>889        </td> <td>0       </td> <td>3              </td> <td>Johnston, Miss. Catherine Helen \"Carrie\"    </td> <td>female</td> <td>nan </td> <td>1    </td> <td>2    </td> <td>W./C. 6607</td> <td>23.45  </td> <td>nan  </td> <td>S       </td> <td>3          </td>\n",
       "        </tr>\n",
       "        <tr>\n",
       "            <td>879        </td> <td>0       </td> <td>3              </td> <td>Laleff, Mr. Kristo                          </td> <td>male  </td> <td>nan </td> <td>0    </td> <td>0    </td> <td>349217    </td> <td>7.8958 </td> <td>nan  </td> <td>S       </td> <td>0          </td>\n",
       "        </tr>\n",
       "        <tr>\n",
       "            <td>869        </td> <td>0       </td> <td>3              </td> <td>van Melkebeke, Mr. Philemon                 </td> <td>male  </td> <td>nan </td> <td>0    </td> <td>0    </td> <td>345777    </td> <td>9.5    </td> <td>nan  </td> <td>S       </td> <td>0          </td>\n",
       "        </tr>\n",
       "        <tr>\n",
       "            <td>864        </td> <td>0       </td> <td>3              </td> <td>Sage, Miss. Dorothy Edith \"Dolly\"           </td> <td>female</td> <td>nan </td> <td>8    </td> <td>2    </td> <td>CA. 2343  </td> <td>69.55  </td> <td>nan  </td> <td>S       </td> <td>10         </td>\n",
       "        </tr>\n",
       "        <tr>\n",
       "            <td>860        </td> <td>0       </td> <td>3              </td> <td>Razi, Mr. Raihed                            </td> <td>male  </td> <td>nan </td> <td>0    </td> <td>0    </td> <td>2629      </td> <td>7.2292 </td> <td>nan  </td> <td>C       </td> <td>0          </td>\n",
       "        </tr>\n",
       "        <tr>\n",
       "            <td>850        </td> <td>1       </td> <td>1              </td> <td>Goldenberg, Mrs. Samuel L (Edwiga Grabowska)</td> <td>female</td> <td>nan </td> <td>1    </td> <td>0    </td> <td>17453     </td> <td>89.1042</td> <td>C92  </td> <td>C       </td> <td>1          </td>\n",
       "        </tr>\n",
       "        <tr>\n",
       "            <td>847        </td> <td>0       </td> <td>3              </td> <td>Sage, Mr. Douglas Bullen                    </td> <td>male  </td> <td>nan </td> <td>8    </td> <td>2    </td> <td>CA. 2343  </td> <td>69.55  </td> <td>nan  </td> <td>S       </td> <td>10         </td>\n",
       "        </tr>\n",
       "        <tr>\n",
       "            <td>840        </td> <td>1       </td> <td>1              </td> <td>Marechal, Mr. Pierre                        </td> <td>male  </td> <td>nan </td> <td>0    </td> <td>0    </td> <td>11774     </td> <td>29.7   </td> <td>C47  </td> <td>C       </td> <td>0          </td>\n",
       "        </tr>\n",
       "        <tr>\n",
       "            <td>838        </td> <td>0       </td> <td>3              </td> <td>Sirota, Mr. Maurice                         </td> <td>male  </td> <td>nan </td> <td>0    </td> <td>0    </td> <td>392092    </td> <td>8.05   </td> <td>nan  </td> <td>S       </td> <td>0          </td>\n",
       "        </tr>\n",
       "        <tr>\n",
       "            <td>833        </td> <td>0       </td> <td>3              </td> <td>Saad, Mr. Amin                              </td> <td>male  </td> <td>nan </td> <td>0    </td> <td>0    </td> <td>2671      </td> <td>7.2292 </td> <td>nan  </td> <td>C       </td> <td>0          </td>\n",
       "        </tr>\n",
       "    </tbody>\n",
       "</table>\n",
       "<p>... (881 rows omitted)</p>"
      ],
      "text/plain": [
       "PassengerId | Survived | passenger_class | Name                                         | Sex    | Age  | SibSp | Parch | Ticket     | Fare    | Cabin | Embarked | family_size\n",
       "889         | 0        | 3               | Johnston, Miss. Catherine Helen \"Carrie\"     | female | nan  | 1     | 2     | W./C. 6607 | 23.45   | nan   | S        | 3\n",
       "879         | 0        | 3               | Laleff, Mr. Kristo                           | male   | nan  | 0     | 0     | 349217     | 7.8958  | nan   | S        | 0\n",
       "869         | 0        | 3               | van Melkebeke, Mr. Philemon                  | male   | nan  | 0     | 0     | 345777     | 9.5     | nan   | S        | 0\n",
       "864         | 0        | 3               | Sage, Miss. Dorothy Edith \"Dolly\"            | female | nan  | 8     | 2     | CA. 2343   | 69.55   | nan   | S        | 10\n",
       "860         | 0        | 3               | Razi, Mr. Raihed                             | male   | nan  | 0     | 0     | 2629       | 7.2292  | nan   | C        | 0\n",
       "850         | 1        | 1               | Goldenberg, Mrs. Samuel L (Edwiga Grabowska) | female | nan  | 1     | 0     | 17453      | 89.1042 | C92   | C        | 1\n",
       "847         | 0        | 3               | Sage, Mr. Douglas Bullen                     | male   | nan  | 8     | 2     | CA. 2343   | 69.55   | nan   | S        | 10\n",
       "840         | 1        | 1               | Marechal, Mr. Pierre                         | male   | nan  | 0     | 0     | 11774      | 29.7    | C47   | C        | 0\n",
       "838         | 0        | 3               | Sirota, Mr. Maurice                          | male   | nan  | 0     | 0     | 392092     | 8.05    | nan   | S        | 0\n",
       "833         | 0        | 3               | Saad, Mr. Amin                               | male   | nan  | 0     | 0     | 2671       | 7.2292  | nan   | C        | 0\n",
       "... (881 rows omitted)"
      ]
     },
     "execution_count": 28,
     "metadata": {},
     "output_type": "execute_result"
    }
   ],
   "source": [
    "Old_2_Young = Titanic.sort('Age',descending=True,distinct=False)\n",
    "Old_2_Young"
   ]
  },
  {
   "cell_type": "code",
   "execution_count": 29,
   "metadata": {},
   "outputs": [
    {
     "data": {
      "text/html": [
       "<table border=\"1\" class=\"dataframe\">\n",
       "    <thead>\n",
       "        <tr>\n",
       "            <th>PassengerId</th> <th>Survived</th> <th>passenger_class</th> <th>Name</th> <th>Sex</th> <th>Age</th> <th>SibSp</th> <th>Parch</th> <th>Ticket</th> <th>Fare</th> <th>Cabin</th> <th>Embarked</th> <th>family_size</th>\n",
       "        </tr>\n",
       "    </thead>\n",
       "    <tbody>\n",
       "        <tr>\n",
       "            <td>631        </td> <td>1       </td> <td>1              </td> <td>Barkworth, Mr. Algernon Henry Wilson</td> <td>male</td> <td>80  </td> <td>0    </td> <td>0    </td> <td>27042     </td> <td>30     </td> <td>A23  </td> <td>S       </td> <td>0          </td>\n",
       "        </tr>\n",
       "        <tr>\n",
       "            <td>852        </td> <td>0       </td> <td>3              </td> <td>Svensson, Mr. Johan                 </td> <td>male</td> <td>74  </td> <td>0    </td> <td>0    </td> <td>347060    </td> <td>7.775  </td> <td>nan  </td> <td>S       </td> <td>0          </td>\n",
       "        </tr>\n",
       "        <tr>\n",
       "            <td>494        </td> <td>0       </td> <td>1              </td> <td>Artagaveytia, Mr. Ramon             </td> <td>male</td> <td>71  </td> <td>0    </td> <td>0    </td> <td>PC 17609  </td> <td>49.5042</td> <td>nan  </td> <td>C       </td> <td>0          </td>\n",
       "        </tr>\n",
       "        <tr>\n",
       "            <td>97         </td> <td>0       </td> <td>1              </td> <td>Goldschmidt, Mr. George B           </td> <td>male</td> <td>71  </td> <td>0    </td> <td>0    </td> <td>PC 17754  </td> <td>34.6542</td> <td>A5   </td> <td>C       </td> <td>0          </td>\n",
       "        </tr>\n",
       "        <tr>\n",
       "            <td>117        </td> <td>0       </td> <td>3              </td> <td>Connors, Mr. Patrick                </td> <td>male</td> <td>70.5</td> <td>0    </td> <td>0    </td> <td>370369    </td> <td>7.75   </td> <td>nan  </td> <td>Q       </td> <td>0          </td>\n",
       "        </tr>\n",
       "        <tr>\n",
       "            <td>746        </td> <td>0       </td> <td>1              </td> <td>Crosby, Capt. Edward Gifford        </td> <td>male</td> <td>70  </td> <td>1    </td> <td>1    </td> <td>WE/P 5735 </td> <td>71     </td> <td>B22  </td> <td>S       </td> <td>2          </td>\n",
       "        </tr>\n",
       "        <tr>\n",
       "            <td>673        </td> <td>0       </td> <td>2              </td> <td>Mitchell, Mr. Henry Michael         </td> <td>male</td> <td>70  </td> <td>0    </td> <td>0    </td> <td>C.A. 24580</td> <td>10.5   </td> <td>nan  </td> <td>S       </td> <td>0          </td>\n",
       "        </tr>\n",
       "        <tr>\n",
       "            <td>34         </td> <td>0       </td> <td>2              </td> <td>Wheadon, Mr. Edward H               </td> <td>male</td> <td>66  </td> <td>0    </td> <td>0    </td> <td>C.A. 24579</td> <td>10.5   </td> <td>nan  </td> <td>S       </td> <td>0          </td>\n",
       "        </tr>\n",
       "        <tr>\n",
       "            <td>457        </td> <td>0       </td> <td>1              </td> <td>Millet, Mr. Francis Davis           </td> <td>male</td> <td>65  </td> <td>0    </td> <td>0    </td> <td>13509     </td> <td>26.55  </td> <td>E38  </td> <td>S       </td> <td>0          </td>\n",
       "        </tr>\n",
       "        <tr>\n",
       "            <td>281        </td> <td>0       </td> <td>3              </td> <td>Duane, Mr. Frank                    </td> <td>male</td> <td>65  </td> <td>0    </td> <td>0    </td> <td>336439    </td> <td>7.75   </td> <td>nan  </td> <td>Q       </td> <td>0          </td>\n",
       "        </tr>\n",
       "    </tbody>\n",
       "</table>\n",
       "<p>... (704 rows omitted)</p>"
      ],
      "text/plain": [
       "PassengerId | Survived | passenger_class | Name                                 | Sex  | Age  | SibSp | Parch | Ticket     | Fare    | Cabin | Embarked | family_size\n",
       "631         | 1        | 1               | Barkworth, Mr. Algernon Henry Wilson | male | 80   | 0     | 0     | 27042      | 30      | A23   | S        | 0\n",
       "852         | 0        | 3               | Svensson, Mr. Johan                  | male | 74   | 0     | 0     | 347060     | 7.775   | nan   | S        | 0\n",
       "494         | 0        | 1               | Artagaveytia, Mr. Ramon              | male | 71   | 0     | 0     | PC 17609   | 49.5042 | nan   | C        | 0\n",
       "97          | 0        | 1               | Goldschmidt, Mr. George B            | male | 71   | 0     | 0     | PC 17754   | 34.6542 | A5    | C        | 0\n",
       "117         | 0        | 3               | Connors, Mr. Patrick                 | male | 70.5 | 0     | 0     | 370369     | 7.75    | nan   | Q        | 0\n",
       "746         | 0        | 1               | Crosby, Capt. Edward Gifford         | male | 70   | 1     | 1     | WE/P 5735  | 71      | B22   | S        | 2\n",
       "673         | 0        | 2               | Mitchell, Mr. Henry Michael          | male | 70   | 0     | 0     | C.A. 24580 | 10.5    | nan   | S        | 0\n",
       "34          | 0        | 2               | Wheadon, Mr. Edward H                | male | 66   | 0     | 0     | C.A. 24579 | 10.5    | nan   | S        | 0\n",
       "457         | 0        | 1               | Millet, Mr. Francis Davis            | male | 65   | 0     | 0     | 13509      | 26.55   | E38   | S        | 0\n",
       "281         | 0        | 3               | Duane, Mr. Frank                     | male | 65   | 0     | 0     | 336439     | 7.75    | nan   | Q        | 0\n",
       "... (704 rows omitted)"
      ]
     },
     "execution_count": 29,
     "metadata": {},
     "output_type": "execute_result"
    }
   ],
   "source": [
    "no_nan = Old_2_Young.where('Age', are.between(0, 150))\n",
    "no_nan"
   ]
  },
  {
   "cell_type": "code",
   "execution_count": 30,
   "metadata": {},
   "outputs": [
    {
     "data": {
      "text/html": [
       "<table border=\"1\" class=\"dataframe\">\n",
       "    <thead>\n",
       "        <tr>\n",
       "            <th>passenger_class</th> <th>count</th>\n",
       "        </tr>\n",
       "    </thead>\n",
       "    <tbody>\n",
       "        <tr>\n",
       "            <td>1              </td> <td>216  </td>\n",
       "        </tr>\n",
       "        <tr>\n",
       "            <td>2              </td> <td>184  </td>\n",
       "        </tr>\n",
       "        <tr>\n",
       "            <td>3              </td> <td>491  </td>\n",
       "        </tr>\n",
       "    </tbody>\n",
       "</table>"
      ],
      "text/plain": [
       "passenger_class | count\n",
       "1               | 216\n",
       "2               | 184\n",
       "3               | 491"
      ]
     },
     "execution_count": 30,
     "metadata": {},
     "output_type": "execute_result"
    }
   ],
   "source": [
    "total_passenger_per_class = Titanic.group('passenger_class')\n",
    "total_passenger_per_class"
   ]
  },
  {
   "cell_type": "code",
   "execution_count": 31,
   "metadata": {},
   "outputs": [
    {
     "data": {
      "text/html": [
       "<table border=\"1\" class=\"dataframe\">\n",
       "    <thead>\n",
       "        <tr>\n",
       "            <th>passenger_class</th> <th>count</th>\n",
       "        </tr>\n",
       "    </thead>\n",
       "    <tbody>\n",
       "        <tr>\n",
       "            <td>1              </td> <td>136  </td>\n",
       "        </tr>\n",
       "        <tr>\n",
       "            <td>2              </td> <td>87   </td>\n",
       "        </tr>\n",
       "        <tr>\n",
       "            <td>3              </td> <td>119  </td>\n",
       "        </tr>\n",
       "    </tbody>\n",
       "</table>"
      ],
      "text/plain": [
       "passenger_class | count\n",
       "1               | 136\n",
       "2               | 87\n",
       "3               | 119"
      ]
     },
     "execution_count": 31,
     "metadata": {},
     "output_type": "execute_result"
    }
   ],
   "source": [
    "passenger_survived_per_class = Titanic.where('Survived', 1).group('passenger_class')\n",
    "passenger_survived_per_class"
   ]
  },
  {
   "cell_type": "code",
   "execution_count": 32,
   "metadata": {},
   "outputs": [
    {
     "data": {
      "text/html": [
       "<table border=\"1\" class=\"dataframe\">\n",
       "    <thead>\n",
       "        <tr>\n",
       "            <th>passenger_class</th> <th>count</th> <th>Survival Rate</th>\n",
       "        </tr>\n",
       "    </thead>\n",
       "    <tbody>\n",
       "        <tr>\n",
       "            <td>1              </td> <td>216  </td> <td>62.96%       </td>\n",
       "        </tr>\n",
       "        <tr>\n",
       "            <td>2              </td> <td>184  </td> <td>47.28%       </td>\n",
       "        </tr>\n",
       "        <tr>\n",
       "            <td>3              </td> <td>491  </td> <td>24.24%       </td>\n",
       "        </tr>\n",
       "    </tbody>\n",
       "</table>"
      ],
      "text/plain": [
       "passenger_class | count | Survival Rate\n",
       "1               | 216   | 62.96%\n",
       "2               | 184   | 47.28%\n",
       "3               | 491   | 24.24%"
      ]
     },
     "execution_count": 32,
     "metadata": {},
     "output_type": "execute_result"
    }
   ],
   "source": [
    "survival_rate = passenger_survived_per_class.column(1) / total_passenger_per_class.column(1)\n",
    "survival_rate_table = total_passenger_per_class.with_column('Survival Rate', survival_rate)\n",
    "survival_rate_table.set_format('Survival Rate', PercentFormatter)"
   ]
  },
  {
   "cell_type": "markdown",
   "metadata": {},
   "source": [
    "Create two of your own questions and answer them: 1) Create a table that has the passenger class, total count of passengers, number of passengers who survived, and survival rate. 2) Make a graph of the Class of passenger and the survival rate."
   ]
  },
  {
   "cell_type": "code",
   "execution_count": 33,
   "metadata": {},
   "outputs": [
    {
     "data": {
      "text/html": [
       "<table border=\"1\" class=\"dataframe\">\n",
       "    <thead>\n",
       "        <tr>\n",
       "            <th>passenger_class</th> <th>count</th> <th>Survival Rate</th> <th>Number Survived</th>\n",
       "        </tr>\n",
       "    </thead>\n",
       "    <tbody>\n",
       "        <tr>\n",
       "            <td>1              </td> <td>216  </td> <td>62.96%       </td> <td>136            </td>\n",
       "        </tr>\n",
       "        <tr>\n",
       "            <td>2              </td> <td>184  </td> <td>47.28%       </td> <td>87             </td>\n",
       "        </tr>\n",
       "        <tr>\n",
       "            <td>3              </td> <td>491  </td> <td>24.24%       </td> <td>119            </td>\n",
       "        </tr>\n",
       "    </tbody>\n",
       "</table>"
      ],
      "text/plain": [
       "passenger_class | count | Survival Rate | Number Survived\n",
       "1               | 216   | 62.96%        | 136\n",
       "2               | 184   | 47.28%        | 87\n",
       "3               | 491   | 24.24%        | 119"
      ]
     },
     "execution_count": 33,
     "metadata": {},
     "output_type": "execute_result"
    }
   ],
   "source": [
    "final_table = survival_rate_table.with_column('Number Survived', passenger_survived_per_class.column(1))\n",
    "final_table"
   ]
  },
  {
   "cell_type": "code",
   "execution_count": 34,
   "metadata": {},
   "outputs": [
    {
     "data": {
      "text/html": [
       "<table border=\"1\" class=\"dataframe\">\n",
       "    <thead>\n",
       "        <tr>\n",
       "            <th>passenger_class</th> <th>count</th> <th>Number Survived</th> <th>Survival Rate</th>\n",
       "        </tr>\n",
       "    </thead>\n",
       "    <tbody>\n",
       "        <tr>\n",
       "            <td>1              </td> <td>216  </td> <td>136            </td> <td>62.96%       </td>\n",
       "        </tr>\n",
       "        <tr>\n",
       "            <td>2              </td> <td>184  </td> <td>87             </td> <td>47.28%       </td>\n",
       "        </tr>\n",
       "        <tr>\n",
       "            <td>3              </td> <td>491  </td> <td>119            </td> <td>24.24%       </td>\n",
       "        </tr>\n",
       "    </tbody>\n",
       "</table>"
      ],
      "text/plain": [
       "passenger_class | count | Number Survived | Survival Rate\n",
       "1               | 216   | 136             | 62.96%\n",
       "2               | 184   | 87              | 47.28%\n",
       "3               | 491   | 119             | 24.24%"
      ]
     },
     "execution_count": 34,
     "metadata": {},
     "output_type": "execute_result"
    }
   ],
   "source": [
    "final_table.move_to_end('Survival Rate')"
   ]
  },
  {
   "cell_type": "code",
   "execution_count": 35,
   "metadata": {},
   "outputs": [],
   "source": [
    "final_table = final_table.relabeled('passenger_class', 'Class of Passenger').relabeled('count', 'Total Number')"
   ]
  },
  {
   "cell_type": "code",
   "execution_count": 36,
   "metadata": {},
   "outputs": [
    {
     "data": {
      "image/png": "[encoded data removed]",
      "text/plain": [
       "<Figure size 432x288 with 1 Axes>"
      ]
     },
     "metadata": {},
     "output_type": "display_data"
    }
   ],
   "source": [
    "final_table.barh('Class of Passenger', 'Survival Rate')"
   ]
  }
 ],
 "metadata": {
  "kernelspec": {
   "display_name": "Python 3",
   "language": "python",
   "name": "python3"
  },
  "language_info": {
   "codemirror_mode": {
    "name": "ipython",
    "version": 3
   },
   "file_extension": ".py",
   "mimetype": "text/x-python",
   "name": "python",
   "nbconvert_exporter": "python",
   "pygments_lexer": "ipython3",
   "version": "3.6.5"
  }
 },
 "nbformat": 4,
 "nbformat_minor": 2
}
